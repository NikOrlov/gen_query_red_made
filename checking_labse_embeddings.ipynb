{
 "cells": [
  {
   "cell_type": "code",
   "execution_count": 1,
   "id": "293395bc",
   "metadata": {},
   "outputs": [],
   "source": [
    "import os\n",
    "import pandas as pd\n",
    "import numpy as np\n",
    "import sqlite3\n",
    "import pickle\n",
    "import json\n",
    "from labse import Item, LaBSERanker"
   ]
  },
  {
   "cell_type": "markdown",
   "id": "ad31520a",
   "metadata": {},
   "source": [
    "# Creating embeddings"
   ]
  },
  {
   "cell_type": "code",
   "execution_count": 2,
   "id": "943db7ba",
   "metadata": {},
   "outputs": [
    {
     "name": "stderr",
     "output_type": "stream",
     "text": [
      "\u001b[32m2023-06-21 17:35:09.515\u001b[0m | \u001b[1mINFO    \u001b[0m | \u001b[36mlabse\u001b[0m:\u001b[36m__init__\u001b[0m:\u001b[36m72\u001b[0m - \u001b[1mStart LaBSERanker (msmarco_queries_mean_data_)\u001b[0m\n",
      "\u001b[32m2023-06-21 17:35:09.516\u001b[0m | \u001b[1mINFO    \u001b[0m | \u001b[36mlabse\u001b[0m:\u001b[36m__init__\u001b[0m:\u001b[36m73\u001b[0m - \u001b[1mParameters: db=msmarco, table=queries, emb_columns=['data'], id_column=query_id, regime=mean, experiment_info=, table_type=queries, batch_size=512\u001b[0m\n",
      "\u001b[32m2023-06-21 17:35:09.517\u001b[0m | \u001b[34m\u001b[1mDEBUG   \u001b[0m | \u001b[36mlabse\u001b[0m:\u001b[36mbuild_doc_embeddings\u001b[0m:\u001b[36m120\u001b[0m - \u001b[34m\u001b[1mBuilding doc-embeddings for queries\u001b[0m\n",
      "\u001b[32m2023-06-21 17:35:09.520\u001b[0m | \u001b[34m\u001b[1mDEBUG   \u001b[0m | \u001b[36mlabse\u001b[0m:\u001b[36mprocess_table\u001b[0m:\u001b[36m83\u001b[0m - \u001b[34m\u001b[1mProcessing queries-table, columns: data\u001b[0m\n",
      "11it [00:05,  1.92it/s]\n",
      "\u001b[32m2023-06-21 17:35:15.250\u001b[0m | \u001b[34m\u001b[1mDEBUG   \u001b[0m | \u001b[36mlabse\u001b[0m:\u001b[36mprocess_table\u001b[0m:\u001b[36m114\u001b[0m - \u001b[34m\u001b[1mTable processed, embeddings len: 5193, ids: 5193\u001b[0m\n",
      "\u001b[32m2023-06-21 17:35:15.256\u001b[0m | \u001b[34m\u001b[1mDEBUG   \u001b[0m | \u001b[36mlabse\u001b[0m:\u001b[36mbuild_doc_embeddings\u001b[0m:\u001b[36m149\u001b[0m - \u001b[34m\u001b[1mEmbeddings shape: (5193, 768), ids: (5193,)\u001b[0m\n",
      "\u001b[32m2023-06-21 17:35:15.257\u001b[0m | \u001b[34m\u001b[1mDEBUG   \u001b[0m | \u001b[36mlabse\u001b[0m:\u001b[36mexport\u001b[0m:\u001b[36m152\u001b[0m - \u001b[34m\u001b[1mExporting documents embeddings\u001b[0m\n",
      "\u001b[32m2023-06-21 17:35:15.273\u001b[0m | \u001b[34m\u001b[1mDEBUG   \u001b[0m | \u001b[36mlabse\u001b[0m:\u001b[36mexport\u001b[0m:\u001b[36m164\u001b[0m - \u001b[34m\u001b[1mItem with embeddings ((5193, 768)) and ids ((5193,))\u001b[0m\n"
     ]
    }
   ],
   "source": [
    "exp_query = LaBSERanker(db=\"msmarco\",\n",
    "                        table=\"queries\",\n",
    "                        emb_columns=[\"data\"],\n",
    "                        regime=\"mean\",\n",
    "                        id_column='query_id',\n",
    "                        experiment_info=\"\",\n",
    "                        table_type='queries')\n",
    "exp_query.build_doc_embeddings()\n",
    "exp_query.export()"
   ]
  },
  {
   "cell_type": "code",
   "execution_count": 3,
   "id": "6c666830",
   "metadata": {},
   "outputs": [
    {
     "name": "stderr",
     "output_type": "stream",
     "text": [
      "\u001b[32m2023-06-21 17:35:15.287\u001b[0m | \u001b[1mINFO    \u001b[0m | \u001b[36mlabse\u001b[0m:\u001b[36m__init__\u001b[0m:\u001b[36m72\u001b[0m - \u001b[1mStart LaBSERanker (msmarco_queries_concat_data_)\u001b[0m\n",
      "\u001b[32m2023-06-21 17:35:15.289\u001b[0m | \u001b[1mINFO    \u001b[0m | \u001b[36mlabse\u001b[0m:\u001b[36m__init__\u001b[0m:\u001b[36m73\u001b[0m - \u001b[1mParameters: db=msmarco, table=queries, emb_columns=['data'], id_column=query_id, regime=concat, experiment_info=, table_type=queries, batch_size=512\u001b[0m\n",
      "\u001b[32m2023-06-21 17:35:15.289\u001b[0m | \u001b[34m\u001b[1mDEBUG   \u001b[0m | \u001b[36mlabse\u001b[0m:\u001b[36mbuild_doc_embeddings\u001b[0m:\u001b[36m120\u001b[0m - \u001b[34m\u001b[1mBuilding doc-embeddings for queries\u001b[0m\n",
      "\u001b[32m2023-06-21 17:35:15.290\u001b[0m | \u001b[34m\u001b[1mDEBUG   \u001b[0m | \u001b[36mlabse\u001b[0m:\u001b[36mprocess_table\u001b[0m:\u001b[36m83\u001b[0m - \u001b[34m\u001b[1mProcessing queries-table, columns: data\u001b[0m\n",
      "11it [00:03,  2.83it/s]\n",
      "\u001b[32m2023-06-21 17:35:19.173\u001b[0m | \u001b[34m\u001b[1mDEBUG   \u001b[0m | \u001b[36mlabse\u001b[0m:\u001b[36mprocess_table\u001b[0m:\u001b[36m114\u001b[0m - \u001b[34m\u001b[1mTable processed, embeddings len: 5193, ids: 5193\u001b[0m\n",
      "\u001b[32m2023-06-21 17:35:19.179\u001b[0m | \u001b[34m\u001b[1mDEBUG   \u001b[0m | \u001b[36mlabse\u001b[0m:\u001b[36mbuild_doc_embeddings\u001b[0m:\u001b[36m149\u001b[0m - \u001b[34m\u001b[1mEmbeddings shape: (5193, 768), ids: (5193,)\u001b[0m\n",
      "\u001b[32m2023-06-21 17:35:19.179\u001b[0m | \u001b[34m\u001b[1mDEBUG   \u001b[0m | \u001b[36mlabse\u001b[0m:\u001b[36mexport\u001b[0m:\u001b[36m152\u001b[0m - \u001b[34m\u001b[1mExporting documents embeddings\u001b[0m\n",
      "\u001b[32m2023-06-21 17:35:19.190\u001b[0m | \u001b[34m\u001b[1mDEBUG   \u001b[0m | \u001b[36mlabse\u001b[0m:\u001b[36mexport\u001b[0m:\u001b[36m164\u001b[0m - \u001b[34m\u001b[1mItem with embeddings ((5193, 768)) and ids ((5193,))\u001b[0m\n"
     ]
    }
   ],
   "source": [
    "exp_query = LaBSERanker(db=\"msmarco\",\n",
    "                        table=\"queries\",\n",
    "                        emb_columns=[\"data\"],\n",
    "                        regime=\"concat\",\n",
    "                        id_column='query_id',\n",
    "                        experiment_info=\"\",\n",
    "                        table_type='queries')\n",
    "exp_query.build_doc_embeddings()\n",
    "exp_query.export()"
   ]
  },
  {
   "cell_type": "code",
   "execution_count": 4,
   "id": "4e67ccab",
   "metadata": {},
   "outputs": [
    {
     "name": "stderr",
     "output_type": "stream",
     "text": [
      "\u001b[32m2023-06-21 17:35:19.195\u001b[0m | \u001b[1mINFO    \u001b[0m | \u001b[36mlabse\u001b[0m:\u001b[36m__init__\u001b[0m:\u001b[36m72\u001b[0m - \u001b[1mStart LaBSERanker (msmarco_queries_merged_data_)\u001b[0m\n",
      "\u001b[32m2023-06-21 17:35:19.196\u001b[0m | \u001b[1mINFO    \u001b[0m | \u001b[36mlabse\u001b[0m:\u001b[36m__init__\u001b[0m:\u001b[36m73\u001b[0m - \u001b[1mParameters: db=msmarco, table=queries, emb_columns=['data'], id_column=query_id, regime=merged, experiment_info=, table_type=queries, batch_size=512\u001b[0m\n",
      "\u001b[32m2023-06-21 17:35:19.197\u001b[0m | \u001b[34m\u001b[1mDEBUG   \u001b[0m | \u001b[36mlabse\u001b[0m:\u001b[36mbuild_doc_embeddings\u001b[0m:\u001b[36m120\u001b[0m - \u001b[34m\u001b[1mBuilding doc-embeddings for queries\u001b[0m\n",
      "\u001b[32m2023-06-21 17:35:19.197\u001b[0m | \u001b[34m\u001b[1mDEBUG   \u001b[0m | \u001b[36mlabse\u001b[0m:\u001b[36mprocess_table\u001b[0m:\u001b[36m83\u001b[0m - \u001b[34m\u001b[1mProcessing queries-table, columns: data\u001b[0m\n",
      "11it [00:03,  2.83it/s]\n",
      "\u001b[32m2023-06-21 17:35:23.089\u001b[0m | \u001b[34m\u001b[1mDEBUG   \u001b[0m | \u001b[36mlabse\u001b[0m:\u001b[36mprocess_table\u001b[0m:\u001b[36m114\u001b[0m - \u001b[34m\u001b[1mTable processed, embeddings len: 5193, ids: 5193\u001b[0m\n",
      "\u001b[32m2023-06-21 17:35:23.095\u001b[0m | \u001b[34m\u001b[1mDEBUG   \u001b[0m | \u001b[36mlabse\u001b[0m:\u001b[36mbuild_doc_embeddings\u001b[0m:\u001b[36m149\u001b[0m - \u001b[34m\u001b[1mEmbeddings shape: (5193, 768), ids: (5193,)\u001b[0m\n",
      "\u001b[32m2023-06-21 17:35:23.096\u001b[0m | \u001b[34m\u001b[1mDEBUG   \u001b[0m | \u001b[36mlabse\u001b[0m:\u001b[36mexport\u001b[0m:\u001b[36m152\u001b[0m - \u001b[34m\u001b[1mExporting documents embeddings\u001b[0m\n",
      "\u001b[32m2023-06-21 17:35:23.106\u001b[0m | \u001b[34m\u001b[1mDEBUG   \u001b[0m | \u001b[36mlabse\u001b[0m:\u001b[36mexport\u001b[0m:\u001b[36m164\u001b[0m - \u001b[34m\u001b[1mItem with embeddings ((5193, 768)) and ids ((5193,))\u001b[0m\n"
     ]
    }
   ],
   "source": [
    "exp_query = LaBSERanker(db=\"msmarco\",\n",
    "                        table=\"queries\",\n",
    "                        emb_columns=[\"data\"],\n",
    "                        regime=\"merged\",\n",
    "                        id_column='query_id',\n",
    "                        experiment_info=\"\",\n",
    "                        table_type='queries')\n",
    "exp_query.build_doc_embeddings()\n",
    "exp_query.export()"
   ]
  },
  {
   "cell_type": "code",
   "execution_count": 5,
   "id": "288e74ef",
   "metadata": {},
   "outputs": [
    {
     "name": "stderr",
     "output_type": "stream",
     "text": [
      "\u001b[32m2023-06-21 17:35:23.111\u001b[0m | \u001b[1mINFO    \u001b[0m | \u001b[36mlabse\u001b[0m:\u001b[36m__init__\u001b[0m:\u001b[36m72\u001b[0m - \u001b[1mStart LaBSERanker (msmarco_joined_merged_doc_data_)\u001b[0m\n",
      "\u001b[32m2023-06-21 17:35:23.112\u001b[0m | \u001b[1mINFO    \u001b[0m | \u001b[36mlabse\u001b[0m:\u001b[36m__init__\u001b[0m:\u001b[36m73\u001b[0m - \u001b[1mParameters: db=msmarco, table=joined, emb_columns=['doc_data'], id_column=doc_id, regime=merged, experiment_info=, table_type=joined, batch_size=512\u001b[0m\n",
      "\u001b[32m2023-06-21 17:35:23.112\u001b[0m | \u001b[34m\u001b[1mDEBUG   \u001b[0m | \u001b[36mlabse\u001b[0m:\u001b[36mbuild_doc_embeddings\u001b[0m:\u001b[36m120\u001b[0m - \u001b[34m\u001b[1mBuilding doc-embeddings for joined\u001b[0m\n",
      "\u001b[32m2023-06-21 17:35:23.113\u001b[0m | \u001b[34m\u001b[1mDEBUG   \u001b[0m | \u001b[36mlabse\u001b[0m:\u001b[36mprocess_table\u001b[0m:\u001b[36m83\u001b[0m - \u001b[34m\u001b[1mProcessing joined-table, columns: doc_data\u001b[0m\n",
      "11it [00:42,  3.86s/it]\n",
      "\u001b[32m2023-06-21 17:36:05.620\u001b[0m | \u001b[34m\u001b[1mDEBUG   \u001b[0m | \u001b[36mlabse\u001b[0m:\u001b[36mprocess_table\u001b[0m:\u001b[36m114\u001b[0m - \u001b[34m\u001b[1mTable processed, embeddings len: 5185, ids: 5185\u001b[0m\n",
      "\u001b[32m2023-06-21 17:36:05.628\u001b[0m | \u001b[34m\u001b[1mDEBUG   \u001b[0m | \u001b[36mlabse\u001b[0m:\u001b[36mbuild_doc_embeddings\u001b[0m:\u001b[36m149\u001b[0m - \u001b[34m\u001b[1mEmbeddings shape: (5185, 768), ids: (5185,)\u001b[0m\n",
      "\u001b[32m2023-06-21 17:36:05.629\u001b[0m | \u001b[34m\u001b[1mDEBUG   \u001b[0m | \u001b[36mlabse\u001b[0m:\u001b[36mexport\u001b[0m:\u001b[36m152\u001b[0m - \u001b[34m\u001b[1mExporting documents embeddings\u001b[0m\n",
      "\u001b[32m2023-06-21 17:36:05.643\u001b[0m | \u001b[34m\u001b[1mDEBUG   \u001b[0m | \u001b[36mlabse\u001b[0m:\u001b[36mexport\u001b[0m:\u001b[36m164\u001b[0m - \u001b[34m\u001b[1mItem with embeddings ((5185, 768)) and ids ((5185,))\u001b[0m\n"
     ]
    }
   ],
   "source": [
    "exp_joined = LaBSERanker(db=\"msmarco\",\n",
    "                         table=\"joined\",\n",
    "                         emb_columns=[\"doc_data\"],\n",
    "                         id_column='doc_id',\n",
    "                         regime=\"merged\",\n",
    "                         experiment_info=\"\",\n",
    "                         table_type='joined')\n",
    "exp_joined.build_doc_embeddings()\n",
    "exp_joined.export()"
   ]
  },
  {
   "cell_type": "code",
   "execution_count": 6,
   "id": "17488a66",
   "metadata": {},
   "outputs": [
    {
     "name": "stderr",
     "output_type": "stream",
     "text": [
      "\u001b[32m2023-06-21 17:36:05.648\u001b[0m | \u001b[1mINFO    \u001b[0m | \u001b[36mlabse\u001b[0m:\u001b[36m__init__\u001b[0m:\u001b[36m72\u001b[0m - \u001b[1mStart LaBSERanker (msmarco_docs_merged_data_)\u001b[0m\n",
      "\u001b[32m2023-06-21 17:36:05.649\u001b[0m | \u001b[1mINFO    \u001b[0m | \u001b[36mlabse\u001b[0m:\u001b[36m__init__\u001b[0m:\u001b[36m73\u001b[0m - \u001b[1mParameters: db=msmarco, table=docs, emb_columns=['data'], id_column=doc_id, regime=merged, experiment_info=, table_type=docs, batch_size=512\u001b[0m\n",
      "\u001b[32m2023-06-21 17:36:05.650\u001b[0m | \u001b[34m\u001b[1mDEBUG   \u001b[0m | \u001b[36mlabse\u001b[0m:\u001b[36mbuild_doc_embeddings\u001b[0m:\u001b[36m120\u001b[0m - \u001b[34m\u001b[1mBuilding doc-embeddings for docs\u001b[0m\n",
      "\u001b[32m2023-06-21 17:36:05.650\u001b[0m | \u001b[34m\u001b[1mDEBUG   \u001b[0m | \u001b[36mlabse\u001b[0m:\u001b[36mprocess_table\u001b[0m:\u001b[36m83\u001b[0m - \u001b[34m\u001b[1mProcessing docs-table, columns: data\u001b[0m\n",
      "11it [00:42,  3.89s/it]\n",
      "\u001b[32m2023-06-21 17:36:48.436\u001b[0m | \u001b[34m\u001b[1mDEBUG   \u001b[0m | \u001b[36mlabse\u001b[0m:\u001b[36mprocess_table\u001b[0m:\u001b[36m114\u001b[0m - \u001b[34m\u001b[1mTable processed, embeddings len: 5185, ids: 5185\u001b[0m\n",
      "\u001b[32m2023-06-21 17:36:48.443\u001b[0m | \u001b[34m\u001b[1mDEBUG   \u001b[0m | \u001b[36mlabse\u001b[0m:\u001b[36mbuild_doc_embeddings\u001b[0m:\u001b[36m149\u001b[0m - \u001b[34m\u001b[1mEmbeddings shape: (5185, 768), ids: (5185,)\u001b[0m\n",
      "\u001b[32m2023-06-21 17:36:48.443\u001b[0m | \u001b[34m\u001b[1mDEBUG   \u001b[0m | \u001b[36mlabse\u001b[0m:\u001b[36mexport\u001b[0m:\u001b[36m152\u001b[0m - \u001b[34m\u001b[1mExporting documents embeddings\u001b[0m\n",
      "\u001b[32m2023-06-21 17:36:48.458\u001b[0m | \u001b[34m\u001b[1mDEBUG   \u001b[0m | \u001b[36mlabse\u001b[0m:\u001b[36mexport\u001b[0m:\u001b[36m164\u001b[0m - \u001b[34m\u001b[1mItem with embeddings ((5185, 768)) and ids ((5185,))\u001b[0m\n"
     ]
    }
   ],
   "source": [
    "exp_docs = LaBSERanker(db=\"msmarco\",\n",
    "                       table=\"docs\",\n",
    "                       emb_columns=[\"data\"],\n",
    "                       regime=\"merged\",\n",
    "                       experiment_info=\"\",\n",
    "                       table_type='docs')\n",
    "exp_docs.build_doc_embeddings()\n",
    "exp_docs.export()"
   ]
  },
  {
   "cell_type": "code",
   "execution_count": 7,
   "id": "87773d24",
   "metadata": {},
   "outputs": [
    {
     "name": "stderr",
     "output_type": "stream",
     "text": [
      "\u001b[32m2023-06-21 17:36:48.462\u001b[0m | \u001b[1mINFO    \u001b[0m | \u001b[36mlabse\u001b[0m:\u001b[36m__init__\u001b[0m:\u001b[36m72\u001b[0m - \u001b[1mStart LaBSERanker (msmarco_joined_merged_query_data_doc_data_)\u001b[0m\n",
      "\u001b[32m2023-06-21 17:36:48.464\u001b[0m | \u001b[1mINFO    \u001b[0m | \u001b[36mlabse\u001b[0m:\u001b[36m__init__\u001b[0m:\u001b[36m73\u001b[0m - \u001b[1mParameters: db=msmarco, table=joined, emb_columns=['query_data', 'doc_data'], id_column=doc_id, regime=merged, experiment_info=, table_type=joined, batch_size=512\u001b[0m\n",
      "\u001b[32m2023-06-21 17:36:48.464\u001b[0m | \u001b[34m\u001b[1mDEBUG   \u001b[0m | \u001b[36mlabse\u001b[0m:\u001b[36mbuild_doc_embeddings\u001b[0m:\u001b[36m120\u001b[0m - \u001b[34m\u001b[1mBuilding doc-embeddings for joined\u001b[0m\n",
      "\u001b[32m2023-06-21 17:36:48.465\u001b[0m | \u001b[34m\u001b[1mDEBUG   \u001b[0m | \u001b[36mlabse\u001b[0m:\u001b[36mprocess_table\u001b[0m:\u001b[36m83\u001b[0m - \u001b[34m\u001b[1mProcessing joined-table, columns: query_data\u001b[0m\n",
      "11it [00:04,  2.39it/s]\n",
      "\u001b[32m2023-06-21 17:36:53.112\u001b[0m | \u001b[34m\u001b[1mDEBUG   \u001b[0m | \u001b[36mlabse\u001b[0m:\u001b[36mprocess_table\u001b[0m:\u001b[36m114\u001b[0m - \u001b[34m\u001b[1mTable processed, embeddings len: 5185, ids: 5185\u001b[0m\n",
      "\u001b[32m2023-06-21 17:36:53.119\u001b[0m | \u001b[34m\u001b[1mDEBUG   \u001b[0m | \u001b[36mlabse\u001b[0m:\u001b[36mbuild_doc_embeddings\u001b[0m:\u001b[36m149\u001b[0m - \u001b[34m\u001b[1mEmbeddings shape: (5185, 768), ids: (5185,)\u001b[0m\n",
      "\u001b[32m2023-06-21 17:36:53.120\u001b[0m | \u001b[34m\u001b[1mDEBUG   \u001b[0m | \u001b[36mlabse\u001b[0m:\u001b[36mexport\u001b[0m:\u001b[36m152\u001b[0m - \u001b[34m\u001b[1mExporting documents embeddings\u001b[0m\n",
      "\u001b[32m2023-06-21 17:36:53.130\u001b[0m | \u001b[34m\u001b[1mDEBUG   \u001b[0m | \u001b[36mlabse\u001b[0m:\u001b[36mexport\u001b[0m:\u001b[36m164\u001b[0m - \u001b[34m\u001b[1mItem with embeddings ((5185, 768)) and ids ((5185,))\u001b[0m\n"
     ]
    }
   ],
   "source": [
    "exp_joined_merged = LaBSERanker(db=\"msmarco\",\n",
    "                                table=\"joined\",\n",
    "                                emb_columns=[\"query_data\", \"doc_data\"],\n",
    "                                regime=\"merged\",\n",
    "                                experiment_info=\"\",\n",
    "                                table_type='joined')\n",
    "exp_joined_merged.build_doc_embeddings()\n",
    "exp_joined_merged.export()"
   ]
  },
  {
   "cell_type": "code",
   "execution_count": 8,
   "id": "bc22b235",
   "metadata": {},
   "outputs": [
    {
     "name": "stderr",
     "output_type": "stream",
     "text": [
      "\u001b[32m2023-06-21 17:36:53.134\u001b[0m | \u001b[1mINFO    \u001b[0m | \u001b[36mlabse\u001b[0m:\u001b[36m__init__\u001b[0m:\u001b[36m72\u001b[0m - \u001b[1mStart LaBSERanker (msmarco_joined_concat_query_data_doc_data_)\u001b[0m\n",
      "\u001b[32m2023-06-21 17:36:53.136\u001b[0m | \u001b[1mINFO    \u001b[0m | \u001b[36mlabse\u001b[0m:\u001b[36m__init__\u001b[0m:\u001b[36m73\u001b[0m - \u001b[1mParameters: db=msmarco, table=joined, emb_columns=['query_data', 'doc_data'], id_column=doc_id, regime=concat, experiment_info=, table_type=joined, batch_size=512\u001b[0m\n",
      "\u001b[32m2023-06-21 17:36:53.136\u001b[0m | \u001b[34m\u001b[1mDEBUG   \u001b[0m | \u001b[36mlabse\u001b[0m:\u001b[36mbuild_doc_embeddings\u001b[0m:\u001b[36m120\u001b[0m - \u001b[34m\u001b[1mBuilding doc-embeddings for joined\u001b[0m\n",
      "\u001b[32m2023-06-21 17:36:53.137\u001b[0m | \u001b[34m\u001b[1mDEBUG   \u001b[0m | \u001b[36mlabse\u001b[0m:\u001b[36mprocess_table\u001b[0m:\u001b[36m83\u001b[0m - \u001b[34m\u001b[1mProcessing joined-table, columns: ['query_data']\u001b[0m\n",
      "11it [00:02,  4.74it/s]\n",
      "\u001b[32m2023-06-21 17:36:55.507\u001b[0m | \u001b[34m\u001b[1mDEBUG   \u001b[0m | \u001b[36mlabse\u001b[0m:\u001b[36mprocess_table\u001b[0m:\u001b[36m114\u001b[0m - \u001b[34m\u001b[1mTable processed, embeddings len: 5185, ids: 5185\u001b[0m\n",
      "\u001b[32m2023-06-21 17:36:55.515\u001b[0m | \u001b[34m\u001b[1mDEBUG   \u001b[0m | \u001b[36mlabse\u001b[0m:\u001b[36mprocess_table\u001b[0m:\u001b[36m83\u001b[0m - \u001b[34m\u001b[1mProcessing joined-table, columns: ['doc_data']\u001b[0m\n",
      "11it [00:32,  2.93s/it]\n",
      "\u001b[32m2023-06-21 17:37:27.848\u001b[0m | \u001b[34m\u001b[1mDEBUG   \u001b[0m | \u001b[36mlabse\u001b[0m:\u001b[36mprocess_table\u001b[0m:\u001b[36m114\u001b[0m - \u001b[34m\u001b[1mTable processed, embeddings len: 5185, ids: 5185\u001b[0m\n",
      "\u001b[32m2023-06-21 17:37:27.864\u001b[0m | \u001b[34m\u001b[1mDEBUG   \u001b[0m | \u001b[36mlabse\u001b[0m:\u001b[36mbuild_doc_embeddings\u001b[0m:\u001b[36m149\u001b[0m - \u001b[34m\u001b[1mEmbeddings shape: (5185, 1536), ids: (5185,)\u001b[0m\n",
      "\u001b[32m2023-06-21 17:37:27.865\u001b[0m | \u001b[34m\u001b[1mDEBUG   \u001b[0m | \u001b[36mlabse\u001b[0m:\u001b[36mexport\u001b[0m:\u001b[36m152\u001b[0m - \u001b[34m\u001b[1mExporting documents embeddings\u001b[0m\n",
      "\u001b[32m2023-06-21 17:37:27.893\u001b[0m | \u001b[34m\u001b[1mDEBUG   \u001b[0m | \u001b[36mlabse\u001b[0m:\u001b[36mexport\u001b[0m:\u001b[36m164\u001b[0m - \u001b[34m\u001b[1mItem with embeddings ((5185, 1536)) and ids ((5185,))\u001b[0m\n"
     ]
    }
   ],
   "source": [
    "exp_joined_concat = LaBSERanker(db=\"msmarco\",\n",
    "                                table=\"joined\",\n",
    "                                emb_columns=[\"query_data\", \"doc_data\"],\n",
    "                                regime=\"concat\",\n",
    "                                experiment_info=\"\",\n",
    "                                table_type='joined')\n",
    "exp_joined_concat.build_doc_embeddings()\n",
    "exp_joined_concat.export()"
   ]
  },
  {
   "cell_type": "code",
   "execution_count": 9,
   "id": "d698801f",
   "metadata": {},
   "outputs": [
    {
     "name": "stderr",
     "output_type": "stream",
     "text": [
      "\u001b[32m2023-06-21 17:37:27.897\u001b[0m | \u001b[1mINFO    \u001b[0m | \u001b[36mlabse\u001b[0m:\u001b[36m__init__\u001b[0m:\u001b[36m72\u001b[0m - \u001b[1mStart LaBSERanker (msmarco_joined_mean_query_data_doc_data_)\u001b[0m\n",
      "\u001b[32m2023-06-21 17:37:27.898\u001b[0m | \u001b[1mINFO    \u001b[0m | \u001b[36mlabse\u001b[0m:\u001b[36m__init__\u001b[0m:\u001b[36m73\u001b[0m - \u001b[1mParameters: db=msmarco, table=joined, emb_columns=['query_data', 'doc_data'], id_column=doc_id, regime=mean, experiment_info=, table_type=joined, batch_size=512\u001b[0m\n",
      "\u001b[32m2023-06-21 17:37:27.899\u001b[0m | \u001b[34m\u001b[1mDEBUG   \u001b[0m | \u001b[36mlabse\u001b[0m:\u001b[36mbuild_doc_embeddings\u001b[0m:\u001b[36m120\u001b[0m - \u001b[34m\u001b[1mBuilding doc-embeddings for joined\u001b[0m\n",
      "\u001b[32m2023-06-21 17:37:27.900\u001b[0m | \u001b[34m\u001b[1mDEBUG   \u001b[0m | \u001b[36mlabse\u001b[0m:\u001b[36mprocess_table\u001b[0m:\u001b[36m83\u001b[0m - \u001b[34m\u001b[1mProcessing joined-table, columns: ['query_data']\u001b[0m\n",
      "11it [00:02,  4.78it/s]\n",
      "\u001b[32m2023-06-21 17:37:30.254\u001b[0m | \u001b[34m\u001b[1mDEBUG   \u001b[0m | \u001b[36mlabse\u001b[0m:\u001b[36mprocess_table\u001b[0m:\u001b[36m114\u001b[0m - \u001b[34m\u001b[1mTable processed, embeddings len: 5185, ids: 5185\u001b[0m\n",
      "\u001b[32m2023-06-21 17:37:30.261\u001b[0m | \u001b[34m\u001b[1mDEBUG   \u001b[0m | \u001b[36mlabse\u001b[0m:\u001b[36mprocess_table\u001b[0m:\u001b[36m83\u001b[0m - \u001b[34m\u001b[1mProcessing joined-table, columns: ['doc_data']\u001b[0m\n",
      "11it [00:32,  2.97s/it]\n",
      "\u001b[32m2023-06-21 17:38:03.014\u001b[0m | \u001b[34m\u001b[1mDEBUG   \u001b[0m | \u001b[36mlabse\u001b[0m:\u001b[36mprocess_table\u001b[0m:\u001b[36m114\u001b[0m - \u001b[34m\u001b[1mTable processed, embeddings len: 5185, ids: 5185\u001b[0m\n",
      "\u001b[32m2023-06-21 17:38:03.029\u001b[0m | \u001b[34m\u001b[1mDEBUG   \u001b[0m | \u001b[36mlabse\u001b[0m:\u001b[36mbuild_doc_embeddings\u001b[0m:\u001b[36m149\u001b[0m - \u001b[34m\u001b[1mEmbeddings shape: (5185, 768), ids: (5185,)\u001b[0m\n",
      "\u001b[32m2023-06-21 17:38:03.030\u001b[0m | \u001b[34m\u001b[1mDEBUG   \u001b[0m | \u001b[36mlabse\u001b[0m:\u001b[36mexport\u001b[0m:\u001b[36m152\u001b[0m - \u001b[34m\u001b[1mExporting documents embeddings\u001b[0m\n",
      "\u001b[32m2023-06-21 17:38:03.039\u001b[0m | \u001b[34m\u001b[1mDEBUG   \u001b[0m | \u001b[36mlabse\u001b[0m:\u001b[36mexport\u001b[0m:\u001b[36m164\u001b[0m - \u001b[34m\u001b[1mItem with embeddings ((5185, 768)) and ids ((5185,))\u001b[0m\n"
     ]
    }
   ],
   "source": [
    "exp_joined_mean = LaBSERanker(db=\"msmarco\",\n",
    "                              table=\"joined\",\n",
    "                              emb_columns=[\"query_data\", \"doc_data\"],\n",
    "                              regime=\"mean\",\n",
    "                              experiment_info=\"\",\n",
    "                              table_type='joined')\n",
    "exp_joined_mean.build_doc_embeddings()\n",
    "exp_joined_mean.export()"
   ]
  },
  {
   "cell_type": "code",
   "execution_count": null,
   "id": "2cef47dc",
   "metadata": {},
   "outputs": [],
   "source": []
  },
  {
   "cell_type": "code",
   "execution_count": null,
   "id": "b223b1f7",
   "metadata": {},
   "outputs": [],
   "source": []
  },
  {
   "cell_type": "code",
   "execution_count": 10,
   "id": "9a59d8b5",
   "metadata": {},
   "outputs": [],
   "source": [
    "def load(path):\n",
    "    with open(path, 'rb') as file:\n",
    "        data = pickle.load(file)\n",
    "    return data\n",
    "\n",
    "def save(path, obj):\n",
    "    with open(path, 'w') as file:\n",
    "        json.dump(obj, file)"
   ]
  },
  {
   "cell_type": "code",
   "execution_count": 11,
   "id": "03312bd3",
   "metadata": {},
   "outputs": [],
   "source": [
    "EMB_PATH = 'labse_embeddings/msmarco/'"
   ]
  },
  {
   "cell_type": "code",
   "execution_count": 12,
   "id": "3e515f11",
   "metadata": {},
   "outputs": [],
   "source": [
    "queries_concat_name = 'msmarco_queries_concat_data_'\n",
    "queries_merged_name = 'msmarco_queries_merged_data_'\n",
    "queries_mean_name = 'msmarco_queries_mean_data_'\n",
    "\n",
    "docs_merged_name = 'msmarco_docs_merged_data_'\n",
    "joined_merged_doc_data_name = 'msmarco_joined_merged_doc_data_'\n",
    "\n",
    "joined_concat_name = 'msmarco_joined_concat_query_data_doc_data_'\n",
    "joined_merged_name = 'msmarco_joined_merged_query_data_doc_data_'\n",
    "joined_mean_name = 'msmarco_joined_mean_query_data_doc_data_'"
   ]
  },
  {
   "cell_type": "code",
   "execution_count": 13,
   "id": "2edde375",
   "metadata": {},
   "outputs": [],
   "source": [
    "#equal queries emb\n",
    "queries_concat = load(os.path.join(EMB_PATH, queries_concat_name))\n",
    "queries_merged = load(os.path.join(EMB_PATH, queries_merged_name))\n",
    "queries_mean = load(os.path.join(EMB_PATH, queries_mean_name))"
   ]
  },
  {
   "cell_type": "code",
   "execution_count": 14,
   "id": "de85bab6",
   "metadata": {},
   "outputs": [
    {
     "name": "stdout",
     "output_type": "stream",
     "text": [
      "Equal, but shuffled ids and embeddings\n",
      "True\n"
     ]
    }
   ],
   "source": [
    "#docs vs joined with doc_data column\n",
    "docs_merged = load(os.path.join(EMB_PATH, docs_merged_name))\n",
    "joined_merged_doc_data = load(os.path.join(EMB_PATH, joined_merged_doc_data_name))\n",
    "\n",
    "print(docs_merged == joined_merged_doc_data)"
   ]
  },
  {
   "cell_type": "code",
   "execution_count": 15,
   "id": "6b4ec83a",
   "metadata": {},
   "outputs": [
    {
     "name": "stdout",
     "output_type": "stream",
     "text": [
      "Equal ids, but embeddings are different\n",
      "False\n",
      "Equal ids, but embeddings are different\n",
      "False\n",
      "Equal ids, but embeddings are different\n",
      "False\n",
      "Equal ids, but embeddings are different\n",
      "False\n",
      "Equal ids, but embeddings are different\n",
      "False\n"
     ]
    }
   ],
   "source": [
    "joined_concat = load(os.path.join(EMB_PATH, joined_concat_name))\n",
    "joined_merged = load(os.path.join(EMB_PATH, joined_merged_name))\n",
    "joined_mean = load(os.path.join(EMB_PATH, joined_mean_name))\n",
    "\n",
    "print(joined_concat == joined_merged)\n",
    "print(joined_concat == joined_mean)\n",
    "print(joined_mean == joined_merged)\n",
    "print(joined_merged_doc_data == joined_merged)\n",
    "print(joined_merged_doc_data == joined_mean)"
   ]
  },
  {
   "cell_type": "markdown",
   "id": "069df16d",
   "metadata": {},
   "source": [
    "# Test cosine similarity"
   ]
  },
  {
   "cell_type": "code",
   "execution_count": 16,
   "id": "bba34ec3",
   "metadata": {},
   "outputs": [],
   "source": [
    "query_item = queries_concat\n",
    "source_item = docs_merged"
   ]
  },
  {
   "cell_type": "code",
   "execution_count": 17,
   "id": "6c8d36d1",
   "metadata": {},
   "outputs": [],
   "source": [
    "TOP_K = 100"
   ]
  },
  {
   "cell_type": "code",
   "execution_count": 18,
   "id": "1ff8f649",
   "metadata": {},
   "outputs": [],
   "source": [
    "def build_run_dict(query_item, experiment_item, top_k=TOP_K):\n",
    "    run_dict = {}\n",
    "\n",
    "    for query_id, query_emb in zip(query_item.ids, query_item.embeddings):\n",
    "\n",
    "        dists = query_emb @ experiment_item.embeddings.T\n",
    "        most_similar_args = np.argsort(dists)[::-1][:top_k]\n",
    "        # top_docs = self.ids[most_similar_args]\n",
    "        run_dict[str(query_id)] = {str(experiment_item.ids[arg_id]): str(dists[arg_id])\n",
    "                                   for arg_id in most_similar_args}\n",
    "    assert len(run_dict) == len(query_item.ids)\n",
    "    return run_dict"
   ]
  },
  {
   "cell_type": "code",
   "execution_count": 19,
   "id": "51b52b37",
   "metadata": {},
   "outputs": [],
   "source": [
    "run_docs_merged = build_run_dict(query_item, docs_merged)\n",
    "run_joined_merged_doc_data = build_run_dict(query_item, joined_merged_doc_data)\n",
    "run_joined_merged = build_run_dict(query_item, joined_merged)\n",
    "run_joined_mean = build_run_dict(query_item, joined_mean)"
   ]
  },
  {
   "cell_type": "markdown",
   "id": "57e45a7c",
   "metadata": {},
   "source": [
    "## Compare run_docs_merged and run_joined_merged_doc_data"
   ]
  },
  {
   "cell_type": "markdown",
   "id": "f17e664c",
   "metadata": {},
   "source": [
    "Difference only in the last docs (they have the same score, some of them lay between 99 and 101 positions)"
   ]
  },
  {
   "cell_type": "code",
   "execution_count": 20,
   "id": "87571270",
   "metadata": {},
   "outputs": [
    {
     "data": {
      "text/plain": [
       "False"
      ]
     },
     "execution_count": 20,
     "metadata": {},
     "output_type": "execute_result"
    }
   ],
   "source": [
    "run_joined_merged_doc_data == run_docs_merged"
   ]
  },
  {
   "cell_type": "code",
   "execution_count": 21,
   "id": "a1f4551c",
   "metadata": {},
   "outputs": [
    {
     "data": {
      "text/plain": [
       "True"
      ]
     },
     "execution_count": 21,
     "metadata": {},
     "output_type": "execute_result"
    }
   ],
   "source": [
    "run_joined_merged_doc_data.keys() == run_docs_merged.keys()"
   ]
  },
  {
   "cell_type": "code",
   "execution_count": 22,
   "id": "b2619c33",
   "metadata": {},
   "outputs": [
    {
     "name": "stdout",
     "output_type": "stream",
     "text": [
      "79891\n"
     ]
    }
   ],
   "source": [
    "for key in run_joined_merged_doc_data:\n",
    "    if run_docs_merged[key] != run_joined_merged_doc_data[key]:\n",
    "        bad_key = key\n",
    "        print(bad_key)\n",
    "        break"
   ]
  },
  {
   "cell_type": "code",
   "execution_count": 23,
   "id": "f9c31d18",
   "metadata": {
    "scrolled": true
   },
   "outputs": [
    {
     "name": "stdout",
     "output_type": "stream",
     "text": [
      "{'D2430912': '0.76847625', 'D1158099': '0.75896776', 'D319054': '0.7580612', 'D108242': '0.75344366', 'D3010929': '0.75197065', 'D3084204': '0.7502731', 'D92172': '0.73960197', 'D105663': '0.7384362', 'D1706767': '0.7325666', 'D3294369': '0.72707844', 'D627571': '0.7265064', 'D3184196': '0.7246802', 'D1518530': '0.7202803', 'D496551': '0.71951914', 'D1809551': '0.7188891', 'D2009835': '0.7184597', 'D1106473': '0.7170043', 'D433393': '0.7164818', 'D793265': '0.71577245', 'D1386321': '0.7156354', 'D1786258': '0.7150661', 'D1583568': '0.7147522', 'D642485': '0.7145104', 'D1449014': '0.7127244', 'D750158': '0.71092856', 'D794678': '0.7107673', 'D407055': '0.71035254', 'D2966416': '0.70952606', 'D1703680': '0.7094401', 'D1416598': '0.70925194', 'D1320035': '0.709167', 'D3519807': '0.70875746', 'D203908': '0.70812976', 'D2578868': '0.7074142', 'D157293': '0.70620316', 'D85252': '0.7055563', 'D1286781': '0.7055024', 'D2404562': '0.7054261', 'D544452': '0.7053949', 'D2064694': '0.7053565', 'D3127218': '0.7050853', 'D347830': '0.70476544', 'D1406304': '0.7036779', 'D1965383': '0.70309365', 'D1341501': '0.7028259', 'D770704': '0.7025089', 'D89844': '0.7023015', 'D1647483': '0.702245', 'D2697090': '0.7022282', 'D1647749': '0.7017593', 'D1589738': '0.7015304', 'D1358809': '0.7013255', 'D2557291': '0.7009281', 'D2575157': '0.70089674', 'D2737200': '0.7002878', 'D17582': '0.69997835', 'D2064768': '0.6998148', 'D33399': '0.69969153', 'D659313': '0.69937474', 'D733619': '0.69848895', 'D1221858': '0.6976636', 'D1605381': '0.6972507', 'D313122': '0.6971381', 'D1136544': '0.6969308', 'D417648': '0.69630027', 'D2701974': '0.6948165', 'D3186462': '0.69478816', 'D1986715': '0.6939196', 'D1238161': '0.6937573', 'D1836266': '0.69209206', 'D1277522': '0.6915813', 'D1021268': '0.6900649', 'D840961': '0.68999743', 'D263105': '0.6895392', 'D128125': '0.68950117', 'D1383017': '0.68931496', 'D2478933': '0.6890682', 'D884871': '0.6889057', 'D362544': '0.6885159', 'D1856898': '0.68823504', 'D700209': '0.68820953', 'D825006': '0.68816197', 'D17286': '0.6879149', 'D3497636': '0.68770224', 'D211469': '0.6871221', 'D1050424': '0.6859425', 'D753229': '0.68580484', 'D549773': '0.68492407', 'D3003606': '0.684657', 'D1265871': '0.684412', 'D1183795': '0.6842001', 'D304920': '0.68418574', 'D1903511': '0.683697', 'D1448366': '0.6830126', 'D3058292': '0.6829236', 'D1749836': '0.68251795', 'D190660': '0.6820631', 'D443756': '0.6820077', 'D982510': '0.6819532', 'D1943013': '0.68174416'}\n"
     ]
    }
   ],
   "source": [
    "print(run_joined_merged_doc_data[bad_key])"
   ]
  },
  {
   "cell_type": "code",
   "execution_count": 24,
   "id": "239214a9",
   "metadata": {
    "scrolled": true
   },
   "outputs": [
    {
     "name": "stdout",
     "output_type": "stream",
     "text": [
      "{'D2430912': '0.76847625', 'D1158099': '0.75896776', 'D319054': '0.7580612', 'D108242': '0.75344366', 'D3010929': '0.75197065', 'D3084204': '0.7502731', 'D92172': '0.73960197', 'D105663': '0.7384362', 'D1706767': '0.7325666', 'D3294369': '0.72707844', 'D627571': '0.7265064', 'D3184196': '0.7246802', 'D1518530': '0.7202803', 'D496551': '0.71951914', 'D1809551': '0.7188891', 'D2009835': '0.7184597', 'D1106473': '0.7170043', 'D433393': '0.7164818', 'D793265': '0.71577245', 'D1386321': '0.7156354', 'D1786258': '0.7150661', 'D1583568': '0.7147522', 'D642485': '0.7145104', 'D1449014': '0.7127244', 'D750158': '0.71092856', 'D794678': '0.7107673', 'D407055': '0.71035254', 'D2966416': '0.70952606', 'D1703680': '0.7094401', 'D1416598': '0.70925194', 'D1320035': '0.709167', 'D3519807': '0.70875746', 'D203908': '0.70812976', 'D2578868': '0.7074142', 'D157293': '0.70620316', 'D85252': '0.7055563', 'D1286781': '0.7055024', 'D2404562': '0.7054261', 'D544452': '0.7053949', 'D2064694': '0.7053565', 'D3127218': '0.7050853', 'D347830': '0.70476544', 'D1406304': '0.7036779', 'D1965383': '0.70309365', 'D1341501': '0.7028259', 'D770704': '0.7025089', 'D89844': '0.7023015', 'D1647483': '0.702245', 'D2697090': '0.7022282', 'D1647749': '0.7017593', 'D1589738': '0.7015304', 'D1358809': '0.7013255', 'D2557291': '0.7009281', 'D2575157': '0.70089674', 'D2737200': '0.7002878', 'D17582': '0.69997835', 'D2064768': '0.6998148', 'D33399': '0.69969153', 'D659313': '0.69937474', 'D733619': '0.69848895', 'D1221858': '0.6976636', 'D1605381': '0.6972507', 'D313122': '0.6971381', 'D1136544': '0.6969308', 'D417648': '0.69630027', 'D2701974': '0.6948165', 'D3186462': '0.69478816', 'D1986715': '0.6939196', 'D1238161': '0.6937573', 'D1836266': '0.69209206', 'D1277522': '0.6915813', 'D1021268': '0.6900649', 'D840961': '0.68999743', 'D263105': '0.6895392', 'D128125': '0.68950117', 'D1383017': '0.68931496', 'D2478933': '0.6890682', 'D884871': '0.6889057', 'D362544': '0.6885159', 'D1856898': '0.68823504', 'D700209': '0.68820953', 'D825006': '0.68816197', 'D17286': '0.6879149', 'D3497636': '0.68770224', 'D211469': '0.6871221', 'D1050424': '0.6859425', 'D753229': '0.68580484', 'D549773': '0.68492407', 'D3003606': '0.684657', 'D1265871': '0.684412', 'D1183795': '0.6842001', 'D304920': '0.68418574', 'D1903511': '0.683697', 'D1448366': '0.6830126', 'D3058292': '0.6829236', 'D1749836': '0.68251795', 'D190660': '0.6820631', 'D443756': '0.6820077', 'D982510': '0.6819532', 'D3419393': '0.68174416'}\n"
     ]
    }
   ],
   "source": [
    "print(run_docs_merged[bad_key])"
   ]
  },
  {
   "cell_type": "markdown",
   "id": "864ce18e",
   "metadata": {},
   "source": [
    "## Compare run_joined_merged_doc_data and run_joined_merged"
   ]
  },
  {
   "cell_type": "markdown",
   "id": "d85ac889",
   "metadata": {},
   "source": [
    "Absolutely different scores"
   ]
  },
  {
   "cell_type": "code",
   "execution_count": 25,
   "id": "bbf538bb",
   "metadata": {},
   "outputs": [
    {
     "data": {
      "text/plain": [
       "False"
      ]
     },
     "execution_count": 25,
     "metadata": {},
     "output_type": "execute_result"
    }
   ],
   "source": [
    "run_joined_merged_doc_data == run_joined_merged"
   ]
  },
  {
   "cell_type": "code",
   "execution_count": 26,
   "id": "e54edf7d",
   "metadata": {},
   "outputs": [
    {
     "name": "stdout",
     "output_type": "stream",
     "text": [
      "bad key:  174249\n"
     ]
    }
   ],
   "source": [
    "for key in run_joined_merged_doc_data:\n",
    "    if run_joined_merged_doc_data[key] != run_joined_merged[key]:\n",
    "        bad_key = key\n",
    "        print('bad key: ', bad_key)\n",
    "        break"
   ]
  },
  {
   "cell_type": "code",
   "execution_count": 27,
   "id": "9d23bc20",
   "metadata": {
    "scrolled": true
   },
   "outputs": [
    {
     "name": "stdout",
     "output_type": "stream",
     "text": [
      "{'D1082178': '0.7177883', 'D1878260': '0.7058805', 'D92172': '0.70399904', 'D1852643': '0.7017735', 'D2889796': '0.70027566', 'D734546': '0.6993867', 'D2623081': '0.6977459', 'D2649902': '0.6945826', 'D2434342': '0.69428897', 'D1489838': '0.693874', 'D2127243': '0.6918429', 'D33399': '0.69027984', 'D208006': '0.68944407', 'D1714414': '0.68643665', 'D1199318': '0.685181', 'D1383666': '0.68334335', 'D3157989': '0.68300295', 'D3505617': '0.6802032', 'D1668416': '0.6798488', 'D1060361': '0.6794428', 'D1158099': '0.67937255', 'D59151': '0.67914206', 'D235550': '0.67634916', 'D242633': '0.67585707', 'D173323': '0.6754587', 'D2212234': '0.6751027', 'D1735408': '0.6750542', 'D2920976': '0.6747572', 'D789253': '0.6742439', 'D825006': '0.6740209', 'D3062036': '0.67249', 'D3236152': '0.6722864', 'D1630390': '0.67211896', 'D2187332': '0.6715714', 'D3558311': '0.6714265', 'D1591714': '0.67132324', 'D3371732': '0.6711803', 'D40613': '0.6704868', 'D3016113': '0.6702491', 'D3084204': '0.6693075', 'D2309275': '0.66919863', 'D227148': '0.66908145', 'D1598331': '0.66876197', 'D433393': '0.6674119', 'D186445': '0.6673731', 'D2741582': '0.6666448', 'D1219887': '0.6664838', 'D241253': '0.66624844', 'D2009835': '0.6657193', 'D3447052': '0.6654432', 'D1269311': '0.66527474', 'D1487619': '0.66526425', 'D607573': '0.6651113', 'D3326490': '0.66480285', 'D200762': '0.6642272', 'D1432386': '0.66389316', 'D562441': '0.6638379', 'D2557291': '0.6636305', 'D2978107': '0.663581', 'D3381893': '0.66335094', 'D186737': '0.66306794', 'D1848360': '0.6623124', 'D306639': '0.66168964', 'D407055': '0.66160786', 'D29903': '0.6616039', 'D383534': '0.6608278', 'D1988696': '0.6600671', 'D263105': '0.6588795', 'D3062847': '0.65831625', 'D623016': '0.6580084', 'D3547814': '0.6579225', 'D3540052': '0.6576811', 'D3186462': '0.657567', 'D209539': '0.6574556', 'D659313': '0.6571624', 'D2966416': '0.6569167', 'D1406304': '0.6566248', 'D240800': '0.6563269', 'D1791223': '0.65587664', 'D3419393': '0.65587664', 'D1943013': '0.65587664', 'D231361': '0.65587664', 'D35232': '0.6542305', 'D1830829': '0.65419376', 'D2176106': '0.65406644', 'D28138': '0.65405107', 'D3302259': '0.6539744', 'D1639220': '0.6539396', 'D2578868': '0.6539041', 'D519031': '0.6536094', 'D646129': '0.6535563', 'D2066331': '0.6533536', 'D1002169': '0.6532136', 'D494582': '0.65309423', 'D1341501': '0.6528682', 'D85252': '0.65275264', 'D636031': '0.65263224', 'D1993516': '0.65258014', 'D92983': '0.652501', 'D109680': '0.65240335'}\n"
     ]
    }
   ],
   "source": [
    "print(run_joined_merged_doc_data[bad_key])"
   ]
  },
  {
   "cell_type": "code",
   "execution_count": 28,
   "id": "18d291ef",
   "metadata": {
    "scrolled": true
   },
   "outputs": [
    {
     "name": "stdout",
     "output_type": "stream",
     "text": [
      "{'D1987644': '1.0', 'D3239610': '0.9669259', 'D2575396': '0.9490342', 'D1102351': '0.9367614', 'D338959': '0.9366602', 'D504895': '0.93403405', 'D1032492': '0.93240863', 'D1344806': '0.9301389', 'D1605381': '0.92821115', 'D1055855': '0.9281839', 'D815982': '0.9274915', 'D2024266': '0.9218029', 'D1330327': '0.9214626', 'D858825': '0.92046416', 'D971627': '0.92006874', 'D721715': '0.9173678', 'D56193': '0.9166713', 'D752665': '0.9147581', 'D3319831': '0.91069806', 'D3531852': '0.90923023', 'D3535470': '0.9091236', 'D817986': '0.90907997', 'D1976601': '0.9076632', 'D111860': '0.9039756', 'D266771': '0.90366554', 'D1071930': '0.9026186', 'D796331': '0.9005773', 'D2830329': '0.8995557', 'D2342495': '0.8989539', 'D418139': '0.898537', 'D308138': '0.8976828', 'D9777': '0.8973181', 'D2491111': '0.8966297', 'D1107633': '0.89359355', 'D2127431': '0.89242166', 'D1021744': '0.8922963', 'D696386': '0.8911258', 'D2983314': '0.8894625', 'D1645181': '0.8873042', 'D1042322': '0.8870734', 'D3530341': '0.8867787', 'D774584': '0.88635135', 'D1809589': '0.88626707', 'D3537140': '0.8861755', 'D754302': '0.885072', 'D617720': '0.88410723', 'D17286': '0.884024', 'D1358292': '0.88207746', 'D1059031': '0.8816057', 'D1002169': '0.88123894', 'D342793': '0.8806074', 'D126590': '0.8788874', 'D265699': '0.8787912', 'D380912': '0.8787478', 'D2480752': '0.8781582', 'D376045': '0.87758124', 'D1920317': '0.8772095', 'D28619': '0.876745', 'D3519592': '0.8763922', 'D2808655': '0.87633526', 'D1029036': '0.87562233', 'D38254': '0.87519324', 'D1511808': '0.8751208', 'D3326076': '0.8748737', 'D1242486': '0.87453485', 'D694817': '0.8741395', 'D2539614': '0.8741361', 'D309451': '0.8719168', 'D2748941': '0.871147', 'D3433594': '0.8711137', 'D3543771': '0.870414', 'D1154170': '0.8697761', 'D239018': '0.86840916', 'D5671': '0.8668057', 'D3466980': '0.86624813', 'D190206': '0.8658852', 'D877154': '0.86567044', 'D873543': '0.8656555', 'D117128': '0.8653485', 'D617499': '0.8650441', 'D82515': '0.86486685', 'D2288177': '0.86474395', 'D849859': '0.86300635', 'D995938': '0.8620367', 'D1010750': '0.8614976', 'D1392220': '0.8614311', 'D976311': '0.861251', 'D3500066': '0.8608348', 'D273193': '0.8607082', 'D3544522': '0.8604437', 'D54853': '0.8600793', 'D31336': '0.85865575', 'D227148': '0.85820293', 'D1113462': '0.8575616', 'D2784904': '0.8574509', 'D378': '0.85737', 'D438272': '0.85703546', 'D2111144': '0.8568937', 'D1645141': '0.856002', 'D1198496': '0.85598344'}\n"
     ]
    }
   ],
   "source": [
    "print(run_joined_merged[bad_key])"
   ]
  },
  {
   "cell_type": "markdown",
   "id": "617729c2",
   "metadata": {},
   "source": [
    "# Run pipeline"
   ]
  },
  {
   "cell_type": "code",
   "execution_count": 29,
   "id": "87a03524",
   "metadata": {},
   "outputs": [],
   "source": [
    "RUN_PATH = 'experiments_runs/'"
   ]
  },
  {
   "cell_type": "code",
   "execution_count": 30,
   "id": "4b55e8b3",
   "metadata": {},
   "outputs": [],
   "source": [
    "def save_run_results(item_name, obj):\n",
    "    run_name = f'labse_{item_name}run.jsonl'\n",
    "    run_path = os.path.join(RUN_PATH, run_name)\n",
    "    save(run_path, obj)\n",
    "    print('Experiment name for docker:')\n",
    "    print(run_name[:-10])"
   ]
  },
  {
   "cell_type": "markdown",
   "id": "dacd21ae",
   "metadata": {},
   "source": [
    "## Only docs"
   ]
  },
  {
   "cell_type": "code",
   "execution_count": 31,
   "id": "a185cf48",
   "metadata": {},
   "outputs": [
    {
     "name": "stdout",
     "output_type": "stream",
     "text": [
      "Experiment name for docker:\n",
      "labse_msmarco_docs_merged_data\n"
     ]
    }
   ],
   "source": [
    "save_run_results(docs_merged_name, run_docs_merged)"
   ]
  },
  {
   "cell_type": "code",
   "execution_count": 32,
   "id": "bc48c0bf",
   "metadata": {},
   "outputs": [
    {
     "name": "stdout",
     "output_type": "stream",
     "text": [
      "huggingface/tokenizers: The current process just got forked, after parallelism has already been used. Disabling parallelism to avoid deadlocks...\n",
      "To disable this warning, you can either:\n",
      "\t- Avoid using `tokenizers` before the fork if possible\n",
      "\t- Explicitly set the environment variable TOKENIZERS_PARALLELISM=(true | false)\n",
      "2023-06-21 17:38:16.971 | DEBUG    | __main__:eval:21 - Start evaluate with params: ('msmarco', 'qrels', 'labse_msmarco_docs_merged_data')\n",
      "2023-06-21 17:38:17.102 | DEBUG    | __main__:eval:28 - RUN dict length: 5193\n",
      "2023-06-21 17:38:17.108 | DEBUG    | __main__:eval:38 - QRELS dict length: 5193\n",
      "2023-06-21 17:38:56.742 | INFO     | __main__:eval:45 - Score MRR@100: 0.007583648302485424\n",
      "2023-06-21 17:38:56.742 | INFO     | __main__:eval:48 - Save experiments result to: metrics_calc/results.jsonl\n"
     ]
    }
   ],
   "source": [
    "!docker run --rm --name metrics_calc -e TZ=Europe/Moscow -v $( pwd )/logs:/metrics_calc/logs -v $( pwd )/volume/:/volume -v $( pwd )/experiments_runs/:/metrics_calc/experiments_runs -v $( pwd )/metrics_calc/results/:/metrics_calc/results metrics_calc:export eval msmarco qrels labse_msmarco_docs_merged_data"
   ]
  },
  {
   "cell_type": "markdown",
   "id": "e1dccbdf",
   "metadata": {},
   "source": [
    "## Joined (query + docs) !!BEST EVER!!"
   ]
  },
  {
   "cell_type": "code",
   "execution_count": 33,
   "id": "e6125ff2",
   "metadata": {},
   "outputs": [
    {
     "name": "stdout",
     "output_type": "stream",
     "text": [
      "Experiment name for docker:\n",
      "labse_msmarco_joined_merged_query_data_doc_data\n"
     ]
    }
   ],
   "source": [
    "save_run_results(joined_merged_name, run_joined_merged)"
   ]
  },
  {
   "cell_type": "code",
   "execution_count": 34,
   "id": "b08b3fcb",
   "metadata": {},
   "outputs": [
    {
     "name": "stdout",
     "output_type": "stream",
     "text": [
      "huggingface/tokenizers: The current process just got forked, after parallelism has already been used. Disabling parallelism to avoid deadlocks...\n",
      "To disable this warning, you can either:\n",
      "\t- Avoid using `tokenizers` before the fork if possible\n",
      "\t- Explicitly set the environment variable TOKENIZERS_PARALLELISM=(true | false)\n",
      "2023-06-21 17:38:59.634 | DEBUG    | __main__:eval:21 - Start evaluate with params: ('msmarco', 'qrels', 'labse_msmarco_joined_merged_query_data_doc_data')\n",
      "2023-06-21 17:38:59.777 | DEBUG    | __main__:eval:28 - RUN dict length: 5193\n",
      "2023-06-21 17:38:59.783 | DEBUG    | __main__:eval:38 - QRELS dict length: 5193\n",
      "2023-06-21 17:39:39.384 | INFO     | __main__:eval:45 - Score MRR@100: 0.997138162320493\n",
      "2023-06-21 17:39:39.384 | INFO     | __main__:eval:48 - Save experiments result to: metrics_calc/results.jsonl\n"
     ]
    }
   ],
   "source": [
    "!docker run --rm --name metrics_calc -e TZ=Europe/Moscow -v $( pwd )/logs:/metrics_calc/logs -v $( pwd )/volume/:/volume -v $( pwd )/experiments_runs/:/metrics_calc/experiments_runs -v $( pwd )/metrics_calc/results/:/metrics_calc/results metrics_calc:export eval msmarco qrels labse_msmarco_joined_merged_query_data_doc_data"
   ]
  },
  {
   "cell_type": "markdown",
   "id": "209db1fc",
   "metadata": {},
   "source": [
    "## Joined (mean(query, docs))"
   ]
  },
  {
   "cell_type": "code",
   "execution_count": 35,
   "id": "41cdca3c",
   "metadata": {},
   "outputs": [
    {
     "name": "stdout",
     "output_type": "stream",
     "text": [
      "Experiment name for docker:\n",
      "labse_msmarco_joined_mean_query_data_doc_data\n"
     ]
    }
   ],
   "source": [
    "save_run_results(joined_mean_name, run_joined_mean)"
   ]
  },
  {
   "cell_type": "code",
   "execution_count": 36,
   "id": "cbed60bf",
   "metadata": {},
   "outputs": [
    {
     "name": "stdout",
     "output_type": "stream",
     "text": [
      "huggingface/tokenizers: The current process just got forked, after parallelism has already been used. Disabling parallelism to avoid deadlocks...\n",
      "To disable this warning, you can either:\n",
      "\t- Avoid using `tokenizers` before the fork if possible\n",
      "\t- Explicitly set the environment variable TOKENIZERS_PARALLELISM=(true | false)\n",
      "2023-06-21 17:39:42.271 | DEBUG    | __main__:eval:21 - Start evaluate with params: ('msmarco', 'qrels', 'labse_msmarco_joined_mean_query_data_doc_data')\n",
      "2023-06-21 17:39:42.402 | DEBUG    | __main__:eval:28 - RUN dict length: 5193\n",
      "2023-06-21 17:39:42.409 | DEBUG    | __main__:eval:38 - QRELS dict length: 5193\n",
      "2023-06-21 17:40:22.280 | INFO     | __main__:eval:45 - Score MRR@100: 0.016957638374610576\n",
      "2023-06-21 17:40:22.281 | INFO     | __main__:eval:48 - Save experiments result to: metrics_calc/results.jsonl\n"
     ]
    }
   ],
   "source": [
    "!docker run --rm --name metrics_calc -e TZ=Europe/Moscow -v $( pwd )/logs:/metrics_calc/logs -v $( pwd )/volume/:/volume -v $( pwd )/experiments_runs/:/metrics_calc/experiments_runs -v $( pwd )/metrics_calc/results/:/metrics_calc/results metrics_calc:export eval msmarco qrels labse_msmarco_joined_mean_query_data_doc_data"
   ]
  },
  {
   "cell_type": "code",
   "execution_count": null,
   "id": "e4a86e86",
   "metadata": {},
   "outputs": [],
   "source": []
  }
 ],
 "metadata": {
  "kernelspec": {
   "display_name": "Python 3 (ipykernel)",
   "language": "python",
   "name": "python3"
  },
  "language_info": {
   "codemirror_mode": {
    "name": "ipython",
    "version": 3
   },
   "file_extension": ".py",
   "mimetype": "text/x-python",
   "name": "python",
   "nbconvert_exporter": "python",
   "pygments_lexer": "ipython3",
   "version": "3.9.16"
  }
 },
 "nbformat": 4,
 "nbformat_minor": 5
}
